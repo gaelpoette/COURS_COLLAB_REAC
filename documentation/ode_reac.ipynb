{
 "cells": [
  {
   "cell_type": "markdown",
   "id": "403d978b",
   "metadata": {},
   "source": [
    "# TD code collaboratif: introduction aux tests informatiques\n",
    "## (pour la vérification & validation de codes scientifiques)"
   ]
  },
  {
   "cell_type": "markdown",
   "id": "4530af4b",
   "metadata": {},
   "source": [
    "Lors de ce TD, vous allez récupérer un code de simulation \n",
    "- de cinétiques chimiques (évolution de densités d'espèces au cours du temps)\n",
    "- résolu par méthode Monte-Carlo (une méthode stochastique, nécessitant des tirages aléatoires)"
   ]
  },
  {
   "cell_type": "markdown",
   "id": "07cf2942",
   "metadata": {},
   "source": [
    "Pour récupérer le code, lancer la commande:\n",
    "\n",
    "   git clone git@github.com:gaelpoette/COURS_COLLAB_REAC.git"
   ]
  },
  {
   "cell_type": "markdown",
   "id": "6c2f50b3",
   "metadata": {},
   "source": [
    "### La cinétique chimique en quelques mots\n",
    "\n",
    "Le code suppose de donner en entrée \n",
    "- une liste de réactions\n",
    "$$\n",
    "\\left\\{\\begin{array}{lllll}\n",
    "A+B &\\longrightarrow& C+D&:& \\sigma_0,\\\\ \n",
    "A&\\longrightarrow& Q+M+Y &:& \\sigma_1,\\\\\n",
    "...&:& ...,\\\\ \n",
    "C+K &\\longrightarrow& Z&:& \\sigma_R,\\\\ \n",
    "\\end{array}\\right.\n",
    "$$\n",
    "- et les constantes de réactions associées $(\\sigma_0,...,\\sigma_R)$\n",
    "- ainsi que les conditions initiales en termes de densités d'espèces \n",
    "$$\n",
    "(\\eta_A(0),\\eta_B(0),...\\eta_Z(0))\n",
    "$$\n",
    "- dans un volume $V$ donné\n",
    "- Une liste de temps $(t_0,t_1,...,t_N)$\n",
    "\n",
    "Le code renvoie en sortie un fichier avec une approximation du vecteur d'évolution des densités\n",
    "$$\n",
    "(\\eta_A(t),\\eta_B(t),...\\eta_Z(t))\n",
    "$$\n",
    "Aux temps $(t_i)_{i\\in\\{0,...,N\\}}$\n"
   ]
  },
  {
   "cell_type": "markdown",
   "id": "3b86583c",
   "metadata": {},
   "source": [
    "Pour le jeu de réactions suivant:\n",
    "$$\n",
    "\\left\\{\\begin{array}{lllll}\n",
    "A+B &\\longrightarrow& C+D&:& \\sigma_0,\\\\ \n",
    "C+K &\\longrightarrow& Z&:& \\sigma_1,\\\\ \n",
    "\\end{array}\\right.\n",
    "$$\n",
    "L'ODE suivante est construite et résolue par le code:\n",
    "$$\n",
    "\\left\\{\\begin{array}{ll}\n",
    "\\frac{d}{d t}\\eta_A(t) &= -\\frac{\\sigma_0}{V^1} \\eta_A(t)\\eta_B(t), \\\\\n",
    "\\frac{d}{d t}\\eta_B(t) &= -\\frac{\\sigma_0}{V^1} \\eta_A(t)\\eta_B(t), \\\\\n",
    "\\frac{d}{d t}\\eta_C(t) &= +\\frac{\\sigma_0}{V^1} \\eta_A(t)\\eta_B(t)-\\frac{\\sigma_1}{V^1} \\eta_C(t)\\eta_K(t), \\\\\n",
    "\\frac{d}{d t}\\eta_D(t) &= +\\frac{\\sigma_0}{V^1} \\eta_A(t)\\eta_B(t), \\\\\n",
    "\\frac{d}{d t}\\eta_K(t) &= -\\frac{\\sigma_1}{V^1} \\eta_C(t)\\eta_K(t), \\\\\n",
    "\\frac{d}{d t}\\eta_Z(t) &= +\\frac{\\sigma_1}{V^1} \\eta_C(t)\\eta_K(t), \\\\\n",
    "\\end{array}\\right.\n",
    "$$\n",
    "avec les conditions initiales associées."
   ]
  },
  {
   "cell_type": "markdown",
   "id": "c0036b07",
   "metadata": {},
   "source": [
    "### Résolution numérique: par méthode Monte-Carlo\n",
    "\n",
    "Le principe est expliqué dans les slides"
   ]
  },
  {
   "cell_type": "markdown",
   "id": "646138b9",
   "metadata": {},
   "source": [
    "### Les données d'entrée et leur format\n",
    "\n",
    "Après la commande git clone, faire \n",
    "\n",
    "cd COURS_COLLAB_REAC\n",
    "\n",
    "Les données d'entrée sont marquées par \"PARAM\" en commentaires dans fich_cas_test/param.py\n",
    "\n",
    "Pour lancer le code, aller dans fich_cas_test en tapant la commande\n",
    "\n",
    "cd fich_cas_test\n",
    "\n",
    "puis copier le fichier de paramètres à la racine du projet en tapant\n",
    "\n",
    "cp param.py ../\n",
    "\n",
    "puis exécuter le code en tapant\n",
    "\n",
    "python ../ode_mc.py\n",
    "\n",
    "Si tout se passe bien, vous devez avoir deux fichiers dans le répertoire fich_cas_test:\n",
    "- rez.txt (résultats)\n",
    "- gnu.plot (pour afficher les résultats, lancer la commande \"gnuplot gnu.plot\")\n",
    "\n",
    "Mais surtout: une image a due s'afficher après l'exécution (si vous avez gnuplot installé)\n",
    "\n",
    "=> ce script vous montre comment enchainer facilement des commandes \"system\""
   ]
  },
  {
   "cell_type": "markdown",
   "id": "b601df3b",
   "metadata": {},
   "source": [
    "### Développements:\n",
    "\n",
    "- Que pensez vous de la lisibilité du code? N'auriez vous pas envie d'encapsuler quelques méthodes? Par exemple en vous basant sur le pseudo code fourni dans les slides\n",
    "- Les conditions initiales sont \"en dur\" dans le code: permettre de les renseigner dans param.py\n",
    "- Mettre une constante de réaction négative... Que se passe-t-il? Gérer l'exception\n",
    "- Comment vérifier que les résultats sont ok? Nous avons des évolutions temporelles de densités... Mais sont-elles correctes? Comment tester? \n",
    "- Essayer de mettre une réaction \"ternaire\" (i.e. à trois réactifs). Que se passe-t-il? Coder la fonctionnalité et la tester\n",
    "- Le fait de renseigner le type de réaction est un peu redondant: il suffirait de mettre la chaine de caractère \"->\" dans la réaction \"n B -> A C\" pour détecter qu'il y a 2 réactifs... Une idée de développement?\n",
    "- Les règles de codage? Qu'en pensez-vous? \n"
   ]
  },
  {
   "cell_type": "markdown",
   "id": "3638ae05",
   "metadata": {},
   "source": [
    "### ATTENTION: \n",
    "\n",
    "Ce notebook servira de documentation. Charge à vous de documenter ici vos développements, d'expliquer ce que vous avez fait et comment vous avez testé. "
   ]
  },
  {
   "cell_type": "code",
   "execution_count": null,
   "id": "88daed81",
   "metadata": {},
   "outputs": [],
   "source": []
  }
 ],
 "metadata": {
  "kernelspec": {
   "display_name": "Python 3 (ipykernel)",
   "language": "python",
   "name": "python3"
  },
  "language_info": {
   "codemirror_mode": {
    "name": "ipython",
    "version": 3
   },
   "file_extension": ".py",
   "mimetype": "text/x-python",
   "name": "python",
   "nbconvert_exporter": "python",
   "pygments_lexer": "ipython3",
   "version": "3.10.12"
  }
 },
 "nbformat": 4,
 "nbformat_minor": 5
}
